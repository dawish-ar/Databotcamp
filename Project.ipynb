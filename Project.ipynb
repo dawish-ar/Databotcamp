{
 "cells": [
  {
   "cell_type": "markdown",
   "id": "b5895839",
   "metadata": {},
   "source": [
    "# STUDENT ENGAGEMENT PREDICTION"
   ]
  },
  {
   "cell_type": "code",
   "execution_count": null,
   "id": "1cfb7cae",
   "metadata": {},
   "outputs": [],
   "source": [
    "# import libraries\n",
    "\n",
    "import pandas as pd #Data manipulation\n",
    "import numpy as np #Data manipulation\n",
    "import matplotlib.pyplot as plt # Visualization\n",
    "%matplotlib inline\n",
    "import seaborn as sns #Visualization"
   ]
  },
  {
   "cell_type": "code",
   "execution_count": null,
   "id": "8f02ad4e",
   "metadata": {},
   "outputs": [],
   "source": [
    "# The First DataSet - Students Engagement\n",
    "\n",
    "df = pd.read_csv('Student Engagement Level.csv')\n",
    "pd.set_option('display.max_columns', None)\n",
    "df = df.drop(['Unnamed: 0'], axis = 1)"
   ]
  },
  {
   "cell_type": "code",
   "execution_count": null,
   "id": "ebb17c67",
   "metadata": {},
   "outputs": [],
   "source": [
    "df.head(10)"
   ]
  },
  {
   "cell_type": "code",
   "execution_count": null,
   "id": "cef8590b",
   "metadata": {},
   "outputs": [],
   "source": [
    "df.isnull().any()"
   ]
  },
  {
   "cell_type": "code",
   "execution_count": null,
   "id": "3d502514",
   "metadata": {},
   "outputs": [],
   "source": [
    "df.info()"
   ]
  },
  {
   "cell_type": "code",
   "execution_count": null,
   "id": "35e456c8",
   "metadata": {},
   "outputs": [],
   "source": [
    "df.describe().transpose()"
   ]
  },
  {
   "cell_type": "markdown",
   "id": "01f934f2",
   "metadata": {},
   "source": [
    "---------\n",
    "Plotting data"
   ]
  },
  {
   "cell_type": "code",
   "execution_count": null,
   "id": "2f690aa4",
   "metadata": {},
   "outputs": [],
   "source": [
    "p = df.hist(figsize = (20,20))"
   ]
  },
  {
   "cell_type": "code",
   "execution_count": null,
   "id": "7ddc8343",
   "metadata": {},
   "outputs": [],
   "source": [
    "# Correlation Plot\n",
    "cor_mat= df[:].corr()\n",
    "mask = np.array(cor_mat)\n",
    "mask[np.tril_indices_from(mask)] = False\n",
    "fig=plt.gcf()\n",
    "fig.set_size_inches(30,12)\n",
    "sns.heatmap(data=cor_mat,mask=mask,square=True,annot=True,cbar=True)"
   ]
  },
  {
   "cell_type": "markdown",
   "id": "7632b578",
   "metadata": {},
   "source": [
    "-----------------------\n",
    "Predict with K-Means"
   ]
  },
  {
   "cell_type": "code",
   "execution_count": null,
   "id": "05239c27",
   "metadata": {},
   "outputs": [],
   "source": [
    "from sklearn.preprocessing import StandardScaler\n",
    "\n",
    "sc_X = StandardScaler()\n",
    "X =  pd.DataFrame(sc_X.fit_transform(df.drop([\"Student ID\"],axis = 1),),\n",
    "        columns=['# Logins', '# Content Reads', '# Forum Reads', '# Forum Posts', '# Quiz Reviews before submission',\n",
    "       'Assignment 1 lateness indicator', 'Assignment 2 lateness indicator', 'Assignment 3 lateness indicator', 'Assignment 1 duration to submit (in hours)', \n",
    "        'Assignment 2 duration to submit (in hours)', 'Assignment 3 duration to submit (in hours)', 'Average time to submit assignment (in hours)'])\n"
   ]
  },
  {
   "cell_type": "code",
   "execution_count": null,
   "id": "ee933b3c",
   "metadata": {},
   "outputs": [],
   "source": [
    "X.head(10)"
   ]
  },
  {
   "cell_type": "code",
   "execution_count": null,
   "id": "d7544a5e",
   "metadata": {},
   "outputs": [],
   "source": [
    "# Using the elbow method to find the optimal number of clusters\n",
    "\n",
    "from sklearn.cluster import KMeans\n",
    "wcss = []\n",
    "for i in range(1, 11):\n",
    "    kmeans = KMeans(n_clusters = i, init = 'k-means++', random_state = 42)\n",
    "    kmeans.fit(X)\n",
    "    # inertia method returns wcss for that model\n",
    "    wcss.append(kmeans.inertia_)\n"
   ]
  },
  {
   "cell_type": "code",
   "execution_count": null,
   "id": "a1f64bab",
   "metadata": {},
   "outputs": [],
   "source": [
    "plt.figure(figsize=(10,5))\n",
    "sns.lineplot(range(1, 11), wcss,marker='o',color='red')\n",
    "plt.title('The Elbow Method')\n",
    "plt.xlabel('Number of clusters')\n",
    "plt.ylabel('WCSS')\n",
    "plt.show()"
   ]
  },
  {
   "cell_type": "code",
   "execution_count": null,
   "id": "9e466d63",
   "metadata": {},
   "outputs": [],
   "source": [
    "# Fitting K-Means to the dataset\n",
    "kmeans = KMeans(n_clusters = 2, init = 'k-means++', random_state = 42)\n",
    "y_kmeans = kmeans.fit_predict(X)"
   ]
  },
  {
   "cell_type": "code",
   "execution_count": null,
   "id": "80f79491",
   "metadata": {},
   "outputs": [],
   "source": [
    "Result = kmeans.labels_\n",
    "Result"
   ]
  },
  {
   "cell_type": "code",
   "execution_count": null,
   "id": "0f167dd3",
   "metadata": {},
   "outputs": [],
   "source": [
    "#Getting the Centroids\n",
    "centroids = kmeans.cluster_centers_\n",
    "u_labels = np.unique(kmeans.labels_)\n",
    "plt.figure(figsize=(15,7))\n",
    "\n",
    "#plotting the results:\n",
    " \n",
    "for i in u_labels:\n",
    "    plt.scatter(X.iloc[y_kmeans == i , 0] , X.iloc[y_kmeans == i , 1] , label = i)\n",
    "plt.scatter(centroids[:,0] , centroids[:,1] , s = 300, color = 'red')\n",
    "plt.legend()\n",
    "plt.show()"
   ]
  },
  {
   "cell_type": "markdown",
   "id": "d581e020",
   "metadata": {},
   "source": [
    "-------\n",
    "Add preduction result to each student to see who has high or low engagement "
   ]
  },
  {
   "cell_type": "code",
   "execution_count": null,
   "id": "c7b52d3b",
   "metadata": {},
   "outputs": [],
   "source": [
    "Engagement_Level = pd.DataFrame(Result)"
   ]
  },
  {
   "cell_type": "code",
   "execution_count": null,
   "id": "89becf5c",
   "metadata": {},
   "outputs": [],
   "source": [
    "df['Engagement_Level'] = Engagement_Level"
   ]
  },
  {
   "cell_type": "code",
   "execution_count": null,
   "id": "abfaaf85",
   "metadata": {},
   "outputs": [],
   "source": [
    "df.head(10)"
   ]
  },
  {
   "cell_type": "code",
   "execution_count": null,
   "id": "ba81c22b",
   "metadata": {},
   "outputs": [],
   "source": [
    "df.loc[df['Engagement_Level'] == 0, 'Engagement_Level'] = 'H'\n",
    "df.loc[df['Engagement_Level'] == 1, 'Engagement_Level'] = 'L'"
   ]
  },
  {
   "cell_type": "code",
   "execution_count": null,
   "id": "d6cca837",
   "metadata": {},
   "outputs": [],
   "source": [
    "df.head(10)"
   ]
  },
  {
   "cell_type": "code",
   "execution_count": null,
   "id": "9d8b1720",
   "metadata": {},
   "outputs": [],
   "source": [
    "p = df['Engagement_Level'].hist(bins=3, alpha=0.5)"
   ]
  },
  {
   "cell_type": "markdown",
   "id": "0322cf31",
   "metadata": {},
   "source": [
    "# STUDENT PERFOMANCE PREDICTION"
   ]
  },
  {
   "cell_type": "code",
   "execution_count": null,
   "id": "4513273b",
   "metadata": {},
   "outputs": [],
   "source": [
    "df2 = pd.read_csv('Student Performance Prediction.csv')\n",
    "pd.set_option('display.max_columns', None)\n",
    "df2 = df2.drop(['Unnamed: 0'], axis = 1)\n",
    "df2.head(10)"
   ]
  },
  {
   "cell_type": "markdown",
   "id": "7c6c87c2",
   "metadata": {},
   "source": [
    "----------------\n",
    "Predict with K-Means"
   ]
  },
  {
   "cell_type": "code",
   "execution_count": null,
   "id": "ca226dcb",
   "metadata": {},
   "outputs": [],
   "source": [
    "#Scaling the data\n",
    "\n",
    "from sklearn.preprocessing import StandardScaler\n",
    "\n",
    "sc_X = StandardScaler()\n",
    "X =  pd.DataFrame(sc_X.fit_transform(df2.drop([\"Student ID\"],axis = 1),),\n",
    "        columns=['Quiz01 [10]', 'Assignment01 [8]', 'Midterm Exam [20]', 'Assignment02 [12]', 'Assignment03 [25]',\n",
    "       'Final Exam [35]', 'Course Grade', 'Total [100]'])\n"
   ]
  },
  {
   "cell_type": "code",
   "execution_count": null,
   "id": "d0a3c5ff",
   "metadata": {},
   "outputs": [],
   "source": [
    "X.head(10)"
   ]
  },
  {
   "cell_type": "code",
   "execution_count": null,
   "id": "751b596e",
   "metadata": {},
   "outputs": [],
   "source": [
    "# Using the elbow method to find the optimal number of clusters\n",
    "\n",
    "from sklearn.cluster import KMeans\n",
    "wcss = []\n",
    "for i in range(1, 11):\n",
    "    kmeans = KMeans(n_clusters = i, init = 'k-means++', random_state = 42)\n",
    "    kmeans.fit(X)\n",
    "    # inertia method returns wcss for that model\n",
    "    wcss.append(kmeans.inertia_)\n"
   ]
  },
  {
   "cell_type": "code",
   "execution_count": null,
   "id": "37e8894b",
   "metadata": {},
   "outputs": [],
   "source": [
    "plt.figure(figsize=(10,5))\n",
    "sns.lineplot(range(1, 11), wcss,marker='o',color='red')\n",
    "plt.title('The Elbow Method')\n",
    "plt.xlabel('Number of clusters')\n",
    "plt.ylabel('WCSS')\n",
    "plt.show()"
   ]
  },
  {
   "cell_type": "code",
   "execution_count": null,
   "id": "956ed8c6",
   "metadata": {},
   "outputs": [],
   "source": [
    "# Fitting K-Means to the dataset\n",
    "kmeans = KMeans(n_clusters = 2, init = 'k-means++', random_state = 42)\n",
    "y_kmeans = kmeans.fit_predict(X)"
   ]
  },
  {
   "cell_type": "code",
   "execution_count": null,
   "id": "22ad2691",
   "metadata": {},
   "outputs": [],
   "source": [
    "Result = kmeans.labels_\n",
    "Result"
   ]
  },
  {
   "cell_type": "code",
   "execution_count": null,
   "id": "4ac01a56",
   "metadata": {},
   "outputs": [],
   "source": [
    "#Getting the Centroids\n",
    "centroids = kmeans.cluster_centers_\n",
    "u_labels = np.unique(kmeans.labels_)\n",
    "plt.figure(figsize=(15,7))\n",
    "\n",
    "#plotting the results:\n",
    " \n",
    "for i in u_labels:\n",
    "    plt.scatter(X.iloc[y_kmeans == i , 0] , X.iloc[y_kmeans == i , 1] , label = i)\n",
    "plt.scatter(centroids[:,0] , centroids[:,1] , s = 300, color = 'red')\n",
    "plt.legend()\n",
    "plt.show()"
   ]
  },
  {
   "cell_type": "code",
   "execution_count": null,
   "id": "ecd1c53c",
   "metadata": {},
   "outputs": [],
   "source": [
    "Performance = pd.DataFrame(Result)"
   ]
  },
  {
   "cell_type": "code",
   "execution_count": null,
   "id": "b20943ee",
   "metadata": {},
   "outputs": [],
   "source": [
    "df2['Performance'] = Performance"
   ]
  },
  {
   "cell_type": "code",
   "execution_count": null,
   "id": "43f4fcc5",
   "metadata": {},
   "outputs": [],
   "source": [
    "df2.head()"
   ]
  },
  {
   "cell_type": "code",
   "execution_count": null,
   "id": "557881b8",
   "metadata": {},
   "outputs": [],
   "source": [
    "df2.loc[df2['Performance'] == 0, 'Performance'] = 'G'\n",
    "df2.loc[df2['Performance'] == 1, 'Performance'] = 'W'"
   ]
  },
  {
   "cell_type": "code",
   "execution_count": null,
   "id": "46559ed9",
   "metadata": {},
   "outputs": [],
   "source": [
    "df2.head(10)"
   ]
  },
  {
   "cell_type": "code",
   "execution_count": null,
   "id": "2d51324c",
   "metadata": {},
   "outputs": [],
   "source": [
    "p = df2['Performance'].hist(bins=3, alpha=0.5)"
   ]
  },
  {
   "cell_type": "markdown",
   "id": "c4878f58",
   "metadata": {},
   "source": [
    "# STUDENT PERFOMANCE AND ENGAGEMENT"
   ]
  },
  {
   "cell_type": "markdown",
   "id": "cfd29062",
   "metadata": {},
   "source": [
    "Now let's merge above two dataframes together in order to observe the correlation between perfomance and engagement"
   ]
  },
  {
   "cell_type": "code",
   "execution_count": null,
   "id": "f6006493",
   "metadata": {},
   "outputs": [],
   "source": [
    "df.head(10)"
   ]
  },
  {
   "cell_type": "code",
   "execution_count": null,
   "id": "b405f5a6",
   "metadata": {},
   "outputs": [],
   "source": [
    "df2.head(10)"
   ]
  },
  {
   "cell_type": "markdown",
   "id": "23213ea1",
   "metadata": {},
   "source": [
    "----\n",
    "Merge two dataframes "
   ]
  },
  {
   "cell_type": "code",
   "execution_count": null,
   "id": "4a9a1546",
   "metadata": {},
   "outputs": [],
   "source": [
    "df_merge_col = pd.merge(df, df2, on='Student ID')\n",
    "df_merge_col['Engagement Level'] = df_merge_col['Engagement_Level']\n",
    "df_merge_col = df_merge_col.drop('Engagement_Level',axis = 1)\n",
    "df_merge_col.head(10)"
   ]
  },
  {
   "cell_type": "code",
   "execution_count": null,
   "id": "4208be33",
   "metadata": {},
   "outputs": [],
   "source": [
    "df_merge_col.groupby(['Performance', 'Engagement Level']).size()"
   ]
  },
  {
   "cell_type": "code",
   "execution_count": null,
   "id": "e12a6005",
   "metadata": {},
   "outputs": [],
   "source": [
    "import seaborn as sns\n",
    "\n",
    "sns.catplot(data=df_merge_col,kind='count',x='Performance',hue='Engagement Level')"
   ]
  },
  {
   "cell_type": "code",
   "execution_count": null,
   "id": "06e96252",
   "metadata": {},
   "outputs": [],
   "source": []
  }
 ],
 "metadata": {
  "kernelspec": {
   "display_name": "Python 3",
   "language": "python",
   "name": "python3"
  },
  "language_info": {
   "codemirror_mode": {
    "name": "ipython",
    "version": 3
   },
   "file_extension": ".py",
   "mimetype": "text/x-python",
   "name": "python",
   "nbconvert_exporter": "python",
   "pygments_lexer": "ipython3",
   "version": "3.8.8"
  }
 },
 "nbformat": 4,
 "nbformat_minor": 5
}
